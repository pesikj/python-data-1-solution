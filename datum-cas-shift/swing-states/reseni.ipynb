{
 "cells": [
  {
   "cell_type": "code",
   "execution_count": 1,
   "metadata": {},
   "outputs": [
    {
     "data": {
      "text/html": [
       "<div>\n",
       "<style scoped>\n",
       "    .dataframe tbody tr th:only-of-type {\n",
       "        vertical-align: middle;\n",
       "    }\n",
       "\n",
       "    .dataframe tbody tr th {\n",
       "        vertical-align: top;\n",
       "    }\n",
       "\n",
       "    .dataframe thead th {\n",
       "        text-align: right;\n",
       "    }\n",
       "</style>\n",
       "<table border=\"1\" class=\"dataframe\">\n",
       "  <thead>\n",
       "    <tr style=\"text-align: right;\">\n",
       "      <th></th>\n",
       "      <th>year</th>\n",
       "      <th>state</th>\n",
       "      <th>candidate</th>\n",
       "      <th>party_simplified</th>\n",
       "      <th>candidatevotes</th>\n",
       "      <th>rank</th>\n",
       "      <th>previous_winner_party</th>\n",
       "    </tr>\n",
       "  </thead>\n",
       "  <tbody>\n",
       "    <tr>\n",
       "      <th>3396</th>\n",
       "      <td>1980</td>\n",
       "      <td>SOUTH CAROLINA</td>\n",
       "      <td>REAGAN, RONALD</td>\n",
       "      <td>REPUBLICAN</td>\n",
       "      <td>439277</td>\n",
       "      <td>1.0</td>\n",
       "      <td>DEMOCRAT</td>\n",
       "    </tr>\n",
       "  </tbody>\n",
       "</table>\n",
       "</div>"
      ],
      "text/plain": [
       "      year           state       candidate party_simplified  candidatevotes  \\\n",
       "3396  1980  SOUTH CAROLINA  REAGAN, RONALD       REPUBLICAN          439277   \n",
       "\n",
       "      rank previous_winner_party  \n",
       "3396   1.0              DEMOCRAT  "
      ]
     },
     "execution_count": 1,
     "metadata": {},
     "output_type": "execute_result"
    }
   ],
   "source": [
    "import pandas as pd\n",
    "\n",
    "data = pd.read_csv(\"election-data.csv\")\n",
    "\n",
    "data = data[(data[\"state\"] == \"SOUTH CAROLINA\") & (data[\"rank\"] == 1)]\n",
    "data[\"previous_winner_party\"] = data[\"party_simplified\"].shift(1)\n",
    "data = data.dropna()\n",
    "data[data[\"party_simplified\"] != data[\"previous_winner_party\"]]"
   ]
  }
 ],
 "metadata": {
  "kernelspec": {
   "display_name": "env",
   "language": "python",
   "name": "python3"
  },
  "language_info": {
   "codemirror_mode": {
    "name": "ipython",
    "version": 3
   },
   "file_extension": ".py",
   "mimetype": "text/x-python",
   "name": "python",
   "nbconvert_exporter": "python",
   "pygments_lexer": "ipython3",
   "version": "3.12.1"
  }
 },
 "nbformat": 4,
 "nbformat_minor": 2
}
