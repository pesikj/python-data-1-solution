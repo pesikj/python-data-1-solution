{
 "cells": [
  {
   "cell_type": "code",
   "execution_count": 5,
   "metadata": {},
   "outputs": [
    {
     "data": {
      "text/html": [
       "<div>\n",
       "<style scoped>\n",
       "    .dataframe tbody tr th:only-of-type {\n",
       "        vertical-align: middle;\n",
       "    }\n",
       "\n",
       "    .dataframe tbody tr th {\n",
       "        vertical-align: top;\n",
       "    }\n",
       "\n",
       "    .dataframe thead th {\n",
       "        text-align: right;\n",
       "    }\n",
       "</style>\n",
       "<table border=\"1\" class=\"dataframe\">\n",
       "  <thead>\n",
       "    <tr style=\"text-align: right;\">\n",
       "      <th>is_canceled</th>\n",
       "      <th>0</th>\n",
       "      <th>1</th>\n",
       "    </tr>\n",
       "    <tr>\n",
       "      <th>lead_time_category</th>\n",
       "      <th></th>\n",
       "      <th></th>\n",
       "    </tr>\n",
       "  </thead>\n",
       "  <tbody>\n",
       "    <tr>\n",
       "      <th>Last-minute</th>\n",
       "      <td>6653</td>\n",
       "      <td>1046</td>\n",
       "    </tr>\n",
       "    <tr>\n",
       "      <th>Short-term</th>\n",
       "      <td>8674</td>\n",
       "      <td>3880</td>\n",
       "    </tr>\n",
       "    <tr>\n",
       "      <th>Medium-term</th>\n",
       "      <td>21974</td>\n",
       "      <td>17046</td>\n",
       "    </tr>\n",
       "    <tr>\n",
       "      <th>Long-term</th>\n",
       "      <td>6091</td>\n",
       "      <td>10857</td>\n",
       "    </tr>\n",
       "  </tbody>\n",
       "</table>\n",
       "</div>"
      ],
      "text/plain": [
       "is_canceled             0      1\n",
       "lead_time_category              \n",
       "Last-minute          6653   1046\n",
       "Short-term           8674   3880\n",
       "Medium-term         21974  17046\n",
       "Long-term            6091  10857"
      ]
     },
     "execution_count": 5,
     "metadata": {},
     "output_type": "execute_result"
    }
   ],
   "source": [
    "import pandas as pd\n",
    "\n",
    "data = pd.read_csv(\"hotel_bookings.csv\")\n",
    "\n",
    "data = data[data['hotel'] == 'City Hotel']\n",
    "bins = [0, 7, 30, 180, float('inf')]\n",
    "labels = ['Last-minute', 'Short-term', 'Medium-term', 'Long-term']\n",
    "\n",
    "data['lead_time_category'] = pd.cut(data['lead_time'], bins=bins, labels=labels)\n",
    "\n",
    "data_pivot = pd.crosstab(data[\"lead_time_category\"], data[\"is_canceled\"])\n",
    "data_pivot"
   ]
  },
  {
   "cell_type": "code",
   "execution_count": 6,
   "metadata": {},
   "outputs": [
    {
     "data": {
      "text/html": [
       "<div>\n",
       "<style scoped>\n",
       "    .dataframe tbody tr th:only-of-type {\n",
       "        vertical-align: middle;\n",
       "    }\n",
       "\n",
       "    .dataframe tbody tr th {\n",
       "        vertical-align: top;\n",
       "    }\n",
       "\n",
       "    .dataframe thead th {\n",
       "        text-align: right;\n",
       "    }\n",
       "</style>\n",
       "<table border=\"1\" class=\"dataframe\">\n",
       "  <thead>\n",
       "    <tr style=\"text-align: right;\">\n",
       "      <th>is_canceled</th>\n",
       "      <th>0</th>\n",
       "      <th>1</th>\n",
       "    </tr>\n",
       "    <tr>\n",
       "      <th>lead_time_category</th>\n",
       "      <th></th>\n",
       "      <th></th>\n",
       "    </tr>\n",
       "  </thead>\n",
       "  <tbody>\n",
       "    <tr>\n",
       "      <th>Last-minute</th>\n",
       "      <td>0.864138</td>\n",
       "      <td>0.135862</td>\n",
       "    </tr>\n",
       "    <tr>\n",
       "      <th>Short-term</th>\n",
       "      <td>0.690935</td>\n",
       "      <td>0.309065</td>\n",
       "    </tr>\n",
       "    <tr>\n",
       "      <th>Medium-term</th>\n",
       "      <td>0.563147</td>\n",
       "      <td>0.436853</td>\n",
       "    </tr>\n",
       "    <tr>\n",
       "      <th>Long-term</th>\n",
       "      <td>0.359393</td>\n",
       "      <td>0.640607</td>\n",
       "    </tr>\n",
       "  </tbody>\n",
       "</table>\n",
       "</div>"
      ],
      "text/plain": [
       "is_canceled                0         1\n",
       "lead_time_category                    \n",
       "Last-minute         0.864138  0.135862\n",
       "Short-term          0.690935  0.309065\n",
       "Medium-term         0.563147  0.436853\n",
       "Long-term           0.359393  0.640607"
      ]
     },
     "execution_count": 6,
     "metadata": {},
     "output_type": "execute_result"
    }
   ],
   "source": [
    "data_pivot = pd.crosstab(data[\"lead_time_category\"], data[\"is_canceled\"], normalize=\"index\")\n",
    "data_pivot"
   ]
  }
 ],
 "metadata": {
  "kernelspec": {
   "display_name": "env",
   "language": "python",
   "name": "python3"
  },
  "language_info": {
   "codemirror_mode": {
    "name": "ipython",
    "version": 3
   },
   "file_extension": ".py",
   "mimetype": "text/x-python",
   "name": "python",
   "nbconvert_exporter": "python",
   "pygments_lexer": "ipython3",
   "version": "3.12.1"
  }
 },
 "nbformat": 4,
 "nbformat_minor": 2
}
